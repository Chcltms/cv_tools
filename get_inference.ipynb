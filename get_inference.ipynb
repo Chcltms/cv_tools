{
 "cells": [
  {
   "cell_type": "code",
   "execution_count": 1,
   "metadata": {},
   "outputs": [],
   "source": [
    "import cv2\n",
    "import matplotlib.pyplot as plt\n",
    "import numpy as np\n",
    "import os\n",
    "%matplotlib inline"
   ]
  },
  {
   "cell_type": "code",
   "execution_count": 2,
   "metadata": {},
   "outputs": [],
   "source": []
  },
  {
   "cell_type": "code",
   "execution_count": 3,
   "metadata": {},
   "outputs": [],
   "source": [
    "i = 0\n",
    "for root,directs, files in os.walk('resnet_epoch100_val_mask/'):\n",
    "    for file in files:\n",
    "        mask = cv2.imread(os.path.join(root,file),0)\n",
    "        imagepath = 'images/'+file[:-9]+'.jpg'        \n",
    "        img = cv2.imread(imagepath)\n",
    "        img = cv2.resize(img,(512,512))\n",
    "        new =np.arange(img.shape[0]*img.shape[1]*3).reshape(img.shape[0],img.shape[1],3)\n",
    "        for i in range(mask.shape[0]):\n",
    "            for j in range(mask.shape[1]):\n",
    "                if mask[i][j] ==0:\n",
    "                    new[i][j] = [255,128,0]\n",
    "                elif mask[i][j] ==1:\n",
    "                    new[i][j] = [128,0,128]\n",
    "                elif mask[i][j] ==2:\n",
    "                    new[i][j] = [127,255,0]\n",
    "                elif mask[i][j] ==3:\n",
    "                    new[i][j] = [30,105,210]\n",
    "                elif mask[i][j] ==4:\n",
    "                    new[i][j] = [0,0,255]\n",
    "                elif mask[i][j] ==5:\n",
    "                    new[i][j] = [255,255,255]\n",
    "        cv2.imwrite('new.jpg',new)\n",
    "        img_new = cv2.imread(\"new.jpg\")\n",
    "        img_mix = cv2.addWeighted(img, 0.6, img_new, 0.4, 0)\n",
    "        cv2.imwrite('result/'+file[:-9]+'_mix.jpg',img_mix)"
   ]
  },
  {
   "cell_type": "code",
   "execution_count": null,
   "metadata": {},
   "outputs": [],
   "source": []
  }
 ],
 "metadata": {
  "kernelspec": {
   "display_name": "Python 3",
   "language": "python",
   "name": "python3"
  },
  "language_info": {
   "codemirror_mode": {
    "name": "ipython",
    "version": 3
   },
   "file_extension": ".py",
   "mimetype": "text/x-python",
   "name": "python",
   "nbconvert_exporter": "python",
   "pygments_lexer": "ipython3",
   "version": "3.5.4"
  }
 },
 "nbformat": 4,
 "nbformat_minor": 2
}
