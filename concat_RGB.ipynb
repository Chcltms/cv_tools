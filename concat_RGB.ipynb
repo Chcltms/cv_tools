{
 "cells": [
  {
   "cell_type": "code",
   "execution_count": 2,
   "metadata": {
    "collapsed": true
   },
   "outputs": [],
   "source": [
    "import cv2\n",
    "import numpy as np\n",
    "import os"
   ]
  },
  {
   "cell_type": "code",
   "execution_count": 3,
   "metadata": {},
   "outputs": [],
   "source": [
    "for roots, directions, files in os.walk('resnet_gcn_pab/'):\n",
    "    for img_path in files:\n",
    "        mask = cv2.imread(os.path.join(roots, img_path),0)\n",
    "        new =np.arange(mask.shape[0]*mask.shape[1]*3).reshape(mask.shape[0],mask.shape[1],3)\n",
    "        for i in range(512):\n",
    "            for j in range(512):\n",
    "                if mask[i][j] ==0:\n",
    "                    new[i][j] = [255,128,0]\n",
    "                elif mask[i][j] ==1:\n",
    "                    new[i][j] = [128,0,128]\n",
    "                elif mask[i][j] ==2:\n",
    "                    new[i][j] = [127,255,0]\n",
    "                elif mask[i][j] ==3:\n",
    "                    new[i][j] = [30,105,210]\n",
    "                elif mask[i][j] ==4:\n",
    "                    new[i][j] = [0,0,255]\n",
    "                elif mask[i][j] ==5:\n",
    "                    new[i][j] = [255,255,255]\n",
    "        #plt.imshow(mask)\n",
    "        cv2.imwrite('resnet_gcn_pab_RGB/'+img_path,new)"
   ]
  },
  {
   "cell_type": "code",
   "execution_count": null,
   "metadata": {
    "collapsed": true
   },
   "outputs": [],
   "source": [
    "net = ResnetGCN_PAB()\n",
    "model_name = 'snapshot_117_G_model'\n",
    "net = nn.DataParallel(net).cuda()\n",
    "checkpoint = torch.load(model_name)\n",
    "net.load_state_dict(checkpoint)\n",
    "net.eval()\n",
    "norm_mean = [0.406, 0.456, 0.485]\n",
    "norm_std = [0.225, 0.224, 0.229]\n",
    "norm = {'mean': norm_mean, 'std': norm_std}"
   ]
  }
 ],
 "metadata": {
  "anaconda-cloud": {},
  "kernelspec": {
   "display_name": "Python 3",
   "language": "python",
   "name": "python3"
  },
  "language_info": {
   "codemirror_mode": {
    "name": "ipython",
    "version": 3
   },
   "file_extension": ".py",
   "mimetype": "text/x-python",
   "name": "python",
   "nbconvert_exporter": "python",
   "pygments_lexer": "ipython3",
   "version": "3.5.4"
  }
 },
 "nbformat": 4,
 "nbformat_minor": 1
}
