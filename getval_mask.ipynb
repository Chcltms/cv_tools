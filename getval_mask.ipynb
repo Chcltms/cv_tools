{
 "cells": [
  {
   "cell_type": "code",
   "execution_count": 15,
   "metadata": {
    "collapsed": false
   },
   "outputs": [],
   "source": [
    "import torch\n",
    "import torch.nn as nn\n",
    "from torch.autograd import Variable\n",
    "import torchvision.transforms as transforms\n",
    "import os\n",
    "import cv2\n",
    "import numpy as np\n",
    "from xception_gcn_seg import XceptionGCNSegmentation\n",
    "from resnet_gcn_seg import ResnetGCNSegmentation\n",
    "from desnet_gcn_seg import DensenetGCNSegmentation\n",
    "from MobileNetDenseASPP import DenseASPP\n",
    "from resnext_gcn_seg import ResNeXtGCNSegmentation\n",
    "import matplotlib.pyplot as plt\n",
    "%matplotlib inline"
   ]
  },
  {
   "cell_type": "code",
   "execution_count": 16,
   "metadata": {
    "collapsed": false
   },
   "outputs": [],
   "source": [
    "net = ResNeXtGCNSegmentation()\n",
    "model_name = 'snapshot_33_G_model'\n",
    "net = nn.DataParallel(net).cuda()\n",
    "checkpoint = torch.load(model_name)\n",
    "net.load_state_dict(checkpoint)\n",
    "net.eval()\n",
    "norm_mean = [0.406, 0.456, 0.485]\n",
    "norm_std = [0.225, 0.224, 0.229]\n",
    "norm = {'mean': norm_mean, 'std': norm_std}"
   ]
  },
  {
   "cell_type": "code",
   "execution_count": 17,
   "metadata": {
    "collapsed": false
   },
   "outputs": [],
   "source": [
    "f = open('val/val.txt','r')\n",
    "lines = f.readlines()\n",
    "f.close()"
   ]
  },
  {
   "cell_type": "code",
   "execution_count": 18,
   "metadata": {
    "collapsed": false
   },
   "outputs": [
    {
     "name": "stderr",
     "output_type": "stream",
     "text": [
      "resnext_gcn_seg.py:348: UserWarning: Implicit dimension choice for softmax has been deprecated. Change the call to include dim=X as an argument.\n",
      "  softmax_output = F.softmax(out)\n"
     ]
    }
   ],
   "source": [
    "for line in lines:\n",
    "    imagepath = line.split(' ')[0]\n",
    "    img = cv2.imread(imagepath)\n",
    "    try:\n",
    "        img_rs = cv2.resize(img,(512,512), interpolation=cv2.INTER_CUBIC)\n",
    "    except:\n",
    "        continue\n",
    "    else:\n",
    "        input_tensor = img_rs.transpose((2, 0, 1))\n",
    "        input_tensor = torch.from_numpy(input_tensor).float()\n",
    "        input_tensor = input_tensor.div(255.0)\n",
    "        normalize = transforms.Normalize(norm['mean'], norm['std'])\n",
    "        input_tensor = normalize(input_tensor)\n",
    "        input_tensor = torch.unsqueeze(input_tensor, 0)\n",
    "        input_tensor = Variable(input_tensor, volatile=True)\n",
    "        outputs = net(input_tensor.cuda())\n",
    "        img_mask = outputs['output'].cpu().data.numpy()\n",
    "        img_mask = np.squeeze(img_mask).astype('uint8')\n",
    "        mask_name = imagepath.split('/')[-1][:-4] + '_mask.png'\n",
    "        cv2.imwrite('resnext_final/'+mask_name, img_mask)"
   ]
  },
  {
   "cell_type": "code",
   "execution_count": 29,
   "metadata": {
    "collapsed": false
   },
   "outputs": [],
   "source": [
    "def _iou(a, b, label):\n",
    "        s = (a == label).astype(np.float32) + (b == label).astype(np.float32)\n",
    "        #print (s)\n",
    "        ins = (s == 2).sum()\n",
    "        #print ('ins:'+str(ins))\n",
    "        union = (s >= 1).sum()\n",
    "        return ins*1.0 / union if union > 0 else 0\n",
    "\n",
    "score_dict = {}\n",
    "for idx in range(6):\n",
    "        score_dict['class_%s' % idx] = 0\n",
    "        score_dict['num_class_%s' % idx] = 0\n",
    "for root,direction,files in os.walk('resnext_final/'):\n",
    "    for file in files:\n",
    "        output = cv2.imread(os.path.join(root,file),0)\n",
    "        if file[0] == '0':         \n",
    "            groundtruth = cv2.imread('anno/'+file,0)\n",
    "        else:\n",
    "            groundtruth = cv2.imread('anno/'+file[:-9]+'_seg.png',0)\n",
    "        try:\n",
    "            groundtruth = cv2.resize(groundtruth,(512,512))\n",
    "        except:\n",
    "            continue\n",
    "        else:\n",
    "            label_num = np.unique(groundtruth)\n",
    "            #print (label_num)\n",
    "            for idx in label_num:\n",
    "                iou = _iou(output, groundtruth, idx)\n",
    "                #if iou:\n",
    "                score_dict['class_%s' % idx] = score_dict['class_%s' % idx]+iou\n",
    "                score_dict['num_class_%s' % idx] = score_dict['num_class_%s' % idx] + 1\n",
    "for idx in range(6):\n",
    "    score_dict['average_iou_%s'%idx] = score_dict['class_%s' % idx]/score_dict['num_class_%s' % idx]\n",
    "score_dict['mean_iou']=(score_dict['average_iou_0']+score_dict['average_iou_1']+score_dict['average_iou_2']+score_dict['average_iou_3']+score_dict['average_iou_4']+score_dict['average_iou_5'])/6"
   ]
  },
  {
   "cell_type": "code",
   "execution_count": 30,
   "metadata": {
    "collapsed": false
   },
   "outputs": [
    {
     "data": {
      "text/plain": [
       "<matplotlib.image.AxesImage at 0x7fc82c53d910>"
      ]
     },
     "execution_count": 30,
     "metadata": {},
     "output_type": "execute_result"
    },
    {
     "data": {
      "image/png": "[encoded data removed]",
      "text/plain": [
       "<matplotlib.figure.Figure at 0x7fc828c9cf10>"
      ]
     },
     "metadata": {},
     "output_type": "display_data"
    }
   ],
   "source": [
    "score_dict"
   ]
  },
  {
   "cell_type": "code",
   "execution_count": 31,
   "metadata": {
    "collapsed": false
   },
   "outputs": [
    {
     "data": {
      "text/plain": [
       "True"
      ]
     },
     "execution_count": 31,
     "metadata": {},
     "output_type": "execute_result"
    }
   ],
   "source": []
  },
  {
   "cell_type": "code",
   "execution_count": null,
   "metadata": {
    "collapsed": true
   },
   "outputs": [],
   "source": []
  }
 ],
 "metadata": {
  "anaconda-cloud": {},
  "kernelspec": {
   "display_name": "Python [conda root]",
   "language": "python",
   "name": "conda-root-py"
  },
  "language_info": {
   "codemirror_mode": {
    "name": "ipython",
    "version": 2
   },
   "file_extension": ".py",
   "mimetype": "text/x-python",
   "name": "python",
   "nbconvert_exporter": "python",
   "pygments_lexer": "ipython2",
   "version": "2.7.12"
  }
 },
 "nbformat": 4,
 "nbformat_minor": 1
}
