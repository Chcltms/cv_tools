{
 "cells": [
  {
   "cell_type": "code",
   "execution_count": 2,
   "metadata": {},
   "outputs": [
    {
     "name": "stderr",
     "output_type": "stream",
     "text": [
      "resnet_gcn_seg.py:380: UserWarning: Implicit dimension choice for softmax has been deprecated. Change the call to include dim=X as an argument.\n",
      "  softmax_output = F.softmax(out)\n"
     ]
    }
   ],
   "source": [
    "import torch\n",
    "import torch.nn as nn\n",
    "from torch.autograd import Variable\n",
    "import torchvision.transforms as transforms\n",
    "import os\n",
    "import cv2\n",
    "import numpy as np\n",
    "#from xception_gcn_seg import XceptionGCNSegmentation\n",
    "from resnet_gcn_seg import ResnetGCNSegmentation\n",
    "#from desnet_gcn_seg import DensenetGCNSegmentation\n",
    "#from MobileNetDenseASPP import DenseASPP\n",
    "#from resnext_gcn_seg import ResNeXtGCNSegmentation\n",
    "#from threeloss_Densenet_DenseASPP_plus import Densenet_DenseASPP_Multiloss\n",
    "#from threeloss_Densenet_DenseASPP_concate import Densenet_DenseASPP_Multiloss\n",
    "#from Densenet_DenseASPP import DenseASPP\n",
    "from resnet_gcn_pab import ResnetGCN_PAB\n",
    "import matplotlib.pyplot as plt\n",
    "%matplotlib inline\n",
    "net = ResnetGCNSegmentation()\n",
    "model_name = 'snapshot_82_G_model'\n",
    "net = nn.DataParallel(net).cuda()\n",
    "checkpoint = torch.load(model_name)\n",
    "net.load_state_dict(checkpoint)\n",
    "net.eval()\n",
    "norm_mean = [0.406, 0.456, 0.485]\n",
    "norm_std = [0.225, 0.224, 0.229]\n",
    "norm = {'mean': norm_mean, 'std': norm_std}\n",
    "\n",
    "num = 1182\n",
    "Upfile = 'IMG_'+str(num)+'_Seperate/'\n",
    "os.mkdir(Upfile)\n",
    "os.mkdir(Upfile+'IMG_'+str(num)+'_sky/')\n",
    "os.mkdir(Upfile+'IMG_'+str(num)+'_building/')\n",
    "os.mkdir(Upfile+'IMG_'+str(num)+'_tree/')\n",
    "os.mkdir(Upfile+'IMG_'+str(num)+'_ground/')\n",
    "os.mkdir(Upfile+'IMG_'+str(num)+'_person/')\n",
    "for roots,directions,files in os.walk('IMG_'+str(num)+'/'):\n",
    "    for imagepath in files:       \n",
    "        img = cv2.imread(os.path.join(roots,imagepath))\n",
    "        img_rs = cv2.resize(img,(512,512), interpolation=cv2.INTER_CUBIC)\n",
    "        input_tensor = img_rs.transpose((2, 0, 1))\n",
    "        input_tensor = torch.from_numpy(input_tensor).float()\n",
    "        input_tensor = input_tensor.div(255.0)\n",
    "        normalize = transforms.Normalize(norm['mean'], norm['std'])\n",
    "        input_tensor = normalize(input_tensor)\n",
    "        input_tensor = torch.unsqueeze(input_tensor, 0)\n",
    "        input_tensor = Variable(input_tensor, volatile=True)\n",
    "        outputs = net(input_tensor.cuda())\n",
    "        img_mask = outputs['output'].cpu().data.numpy()\n",
    "        mask = np.squeeze(img_mask).astype('uint8')\n",
    "        mask = cv2.resize(mask,(img.shape[1],img.shape[0]),interpolation=cv2.INTER_NEAREST)\n",
    "        sky =np.zeros((mask.shape[0],mask.shape[1],4))\n",
    "        building =np.zeros((mask.shape[0],mask.shape[1],4))\n",
    "        tree =np.zeros((mask.shape[0],mask.shape[1],4))\n",
    "        ground =np.zeros((mask.shape[0],mask.shape[1],4))\n",
    "        person =np.zeros((mask.shape[0],mask.shape[1],4))\n",
    "        for i in range(mask.shape[0]):\n",
    "            for j in range(mask.shape[1]):\n",
    "                if mask[i][j] ==0:\n",
    "                    sky[i][j] = np.append(img[i][j],255)\n",
    "                elif mask[i][j] ==1:\n",
    "                    building[i][j] = np.append(img[i][j],255)\n",
    "                elif mask[i][j] ==2:\n",
    "                    tree[i][j] = np.append(img[i][j],255)\n",
    "                elif mask[i][j] ==3:\n",
    "                    ground[i][j] = np.append(img[i][j],255)\n",
    "                elif mask[i][j] ==4:\n",
    "                    person[i][j] = np.append(img[i][j],255)\n",
    "        cv2.imwrite(Upfile+'IMG_'+str(num)+'_sky/'+imagepath[:-4]+'_sky.png',sky)\n",
    "        cv2.imwrite(Upfile+'IMG_'+str(num)+'_building/'+imagepath[:-4]+'_building.png',building)\n",
    "        cv2.imwrite(Upfile+'IMG_'+str(num)+'_tree/'+imagepath[:-4]+'_tree.png',tree)\n",
    "        cv2.imwrite(Upfile+'IMG_'+str(num)+'_person/'+imagepath[:-4]+'_person.png',person)\n",
    "        cv2.imwrite(Upfile+'IMG_'+str(num)+'_ground/'+imagepath[:-4]+'_ground.png',ground)"
   ]
  },
  {
   "cell_type": "code",
   "execution_count": null,
   "metadata": {
    "collapsed": true
   },
   "outputs": [],
   "source": []
  }
 ],
 "metadata": {
  "anaconda-cloud": {},
  "kernelspec": {
   "display_name": "Python 3",
   "language": "python",
   "name": "python3"
  },
  "language_info": {
   "codemirror_mode": {
    "name": "ipython",
    "version": 3
   },
   "file_extension": ".py",
   "mimetype": "text/x-python",
   "name": "python",
   "nbconvert_exporter": "python",
   "pygments_lexer": "ipython3",
   "version": "3.5.4"
  }
 },
 "nbformat": 4,
 "nbformat_minor": 1
}
